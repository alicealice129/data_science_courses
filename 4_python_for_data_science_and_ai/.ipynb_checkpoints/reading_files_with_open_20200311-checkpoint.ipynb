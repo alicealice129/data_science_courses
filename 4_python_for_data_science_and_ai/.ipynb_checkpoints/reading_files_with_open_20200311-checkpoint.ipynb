{
 "cells": [
  {
   "cell_type": "code",
   "execution_count": 1,
   "metadata": {
    "collapsed": true
   },
   "outputs": [],
   "source": [
    "File1 = open(\"txt/example2.txt\", \"w\")"
   ]
  },
  {
   "cell_type": "code",
   "execution_count": 2,
   "metadata": {},
   "outputs": [
    {
     "data": {
      "text/plain": [
       "'example2.txt'"
      ]
     },
     "execution_count": 2,
     "metadata": {},
     "output_type": "execute_result"
    }
   ],
   "source": [
    "File1.name"
   ]
  },
  {
   "cell_type": "code",
   "execution_count": 3,
   "metadata": {
    "collapsed": true
   },
   "outputs": [],
   "source": [
    "# w: writing\n",
    "# r: reading\n",
    "# a: appending"
   ]
  },
  {
   "cell_type": "code",
   "execution_count": 4,
   "metadata": {},
   "outputs": [
    {
     "data": {
      "text/plain": [
       "'w'"
      ]
     },
     "execution_count": 4,
     "metadata": {},
     "output_type": "execute_result"
    }
   ],
   "source": [
    "File1.mode"
   ]
  },
  {
   "cell_type": "code",
   "execution_count": 5,
   "metadata": {
    "collapsed": true
   },
   "outputs": [],
   "source": [
    "File1.close()"
   ]
  },
  {
   "cell_type": "code",
   "execution_count": 7,
   "metadata": {},
   "outputs": [
    {
     "name": "stdout",
     "output_type": "stream",
     "text": [
      "hello\n",
      "test desu\n",
      "\n",
      "True\n",
      "hello\n",
      "test desu\n",
      "\n"
     ]
    }
   ],
   "source": [
    "with open(\"txt/example1.txt\", \"r\") as File2:\n",
    "    file_stuff = File2.read()\n",
    "    print(file_stuff)\n",
    "print(File2.closed)\n",
    "print(file_stuff)"
   ]
  },
  {
   "cell_type": "code",
   "execution_count": 8,
   "metadata": {},
   "outputs": [
    {
     "name": "stdout",
     "output_type": "stream",
     "text": [
      "['hello\\n', 'test desu\\n', 'This is line3\\n', 'This is line4\\n', 'This is line5\\n']\n"
     ]
    }
   ],
   "source": [
    "with open(\"txt/example1.txt\", \"r\") as File2:\n",
    "    file_stuff = File2.readlines()\n",
    "    print(file_stuff)"
   ]
  },
  {
   "cell_type": "code",
   "execution_count": 9,
   "metadata": {},
   "outputs": [
    {
     "name": "stdout",
     "output_type": "stream",
     "text": [
      "hello\n",
      "\n"
     ]
    }
   ],
   "source": [
    "with open(\"txt/example1.txt\", \"r\") as File2:\n",
    "    file_stuff = File2.readline()\n",
    "    print(file_stuff)"
   ]
  },
  {
   "cell_type": "code",
   "execution_count": 10,
   "metadata": {},
   "outputs": [
    {
     "name": "stdout",
     "output_type": "stream",
     "text": [
      "hello\n",
      "\n",
      "test desu\n",
      "\n"
     ]
    }
   ],
   "source": [
    "with open(\"txt/example1.txt\", \"r\") as File2:\n",
    "    file_stuff = File2.readline()\n",
    "    print(file_stuff)\n",
    "    file_stuff = File2.readline()\n",
    "    print(file_stuff)"
   ]
  },
  {
   "cell_type": "code",
   "execution_count": 11,
   "metadata": {},
   "outputs": [
    {
     "name": "stdout",
     "output_type": "stream",
     "text": [
      "hello\n",
      "\n",
      "test desu\n",
      "\n",
      "This is line3\n",
      "\n",
      "This is line4\n",
      "\n",
      "This is line5\n",
      "\n"
     ]
    }
   ],
   "source": [
    "with open(\"txt/example1.txt\", \"r\") as File2:\n",
    "    for line in File2:\n",
    "        print(line)"
   ]
  },
  {
   "cell_type": "code",
   "execution_count": 12,
   "metadata": {},
   "outputs": [
    {
     "name": "stdout",
     "output_type": "stream",
     "text": [
      "['hello\\n']\n"
     ]
    }
   ],
   "source": [
    "with open(\"txt/example1.txt\", \"r\") as File2:\n",
    "    file_stuff = File2.readlines(4)\n",
    "    print(file_stuff)"
   ]
  },
  {
   "cell_type": "code",
   "execution_count": 22,
   "metadata": {},
   "outputs": [
    {
     "name": "stdout",
     "output_type": "stream",
     "text": [
      "['hello\\n']\n"
     ]
    }
   ],
   "source": [
    "with open(\"txt/example1.txt\", \"r\") as File2:\n",
    "    file_stuff = File2.readlines(16)\n",
    "    print(file_stuff)\n",
    "    #file_stuff = File2.readlines(5)\n",
    "    #print(file_stuff)\n",
    "    #file_stuff = File2.readlines(9)\n",
    "    #print(file_stuff)"
   ]
  },
  {
   "cell_type": "code",
   "execution_count": 24,
   "metadata": {},
   "outputs": [
    {
     "name": "stdout",
     "output_type": "stream",
     "text": [
      "['This is line1\\n', 'This is line2\\n']\n",
      "['This is line3\\n']\n",
      "[]\n"
     ]
    }
   ],
   "source": [
    "with open(\"txt/example2.txt\", \"r\") as File1:\n",
    "    file_stuff = File1.readlines(16)\n",
    "    print(file_stuff)\n",
    "    file_stuff = File1.readlines(5)\n",
    "    print(file_stuff)\n",
    "    file_stuff = File1.readlines(9)\n",
    "    print(file_stuff)"
   ]
  },
  {
   "cell_type": "markdown",
   "metadata": {},
   "source": [
    "### Tests"
   ]
  },
  {
   "cell_type": "code",
   "execution_count": 26,
   "metadata": {},
   "outputs": [
    {
     "name": "stdout",
     "output_type": "stream",
     "text": [
      "This is line1\n",
      "\n"
     ]
    }
   ],
   "source": [
    "with open(\"txt/example2.txt\",\"r\") as File1:    \n",
    "     \n",
    "     file_stuff=File1.readline () \n",
    "     \n",
    "     print(file_stuff)\n"
   ]
  },
  {
   "cell_type": "code",
   "execution_count": 29,
   "metadata": {},
   "outputs": [
    {
     "name": "stdout",
     "output_type": "stream",
     "text": [
      "This is line1\n",
      "\n",
      "This is line2\n",
      "\n"
     ]
    }
   ],
   "source": [
    "with open(\"txt/example2.txt\",\"r\") as File1:    \n",
    "    for n in range(0,2):\n",
    "        print(File1.readline())"
   ]
  },
  {
   "cell_type": "code",
   "execution_count": 31,
   "metadata": {},
   "outputs": [
    {
     "name": "stdout",
     "output_type": "stream",
     "text": [
      "This\n"
     ]
    }
   ],
   "source": [
    "with open(\"txt/example2.txt\",\"r\") as File1:    \n",
    "    file_stuff = File1.readline(4)\n",
    "    print(file_stuff)"
   ]
  },
  {
   "cell_type": "code",
   "execution_count": 32,
   "metadata": {},
   "outputs": [
    {
     "name": "stdout",
     "output_type": "stream",
     "text": [
      "This is line1\n",
      "\n",
      "This \n",
      "is line2\n",
      "\n"
     ]
    }
   ],
   "source": [
    "with open(\"txt/example2.txt\",\"r\") as File1:    \n",
    "    file_stuff = File1.readline(16)\n",
    "    print(file_stuff)\n",
    "    file_stuff = File1.readline(5)\n",
    "    print(file_stuff)\n",
    "    file_stuff = File1.readline(9)\n",
    "    print(file_stuff)"
   ]
  },
  {
   "cell_type": "code",
   "execution_count": null,
   "metadata": {
    "collapsed": true
   },
   "outputs": [],
   "source": []
  }
 ],
 "metadata": {
  "kernelspec": {
   "display_name": "Python 3",
   "language": "python",
   "name": "python3"
  },
  "language_info": {
   "codemirror_mode": {
    "name": "ipython",
    "version": 3
   },
   "file_extension": ".py",
   "mimetype": "text/x-python",
   "name": "python",
   "nbconvert_exporter": "python",
   "pygments_lexer": "ipython3",
   "version": "3.6.1"
  }
 },
 "nbformat": 4,
 "nbformat_minor": 2
}
