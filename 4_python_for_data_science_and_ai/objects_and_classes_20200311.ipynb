{
 "cells": [
  {
   "cell_type": "code",
   "execution_count": 1,
   "metadata": {},
   "outputs": [
    {
     "data": {
      "text/plain": [
       "list"
      ]
     },
     "execution_count": 1,
     "metadata": {},
     "output_type": "execute_result"
    }
   ],
   "source": [
    "type([\"a\"])"
   ]
  },
  {
   "cell_type": "code",
   "execution_count": 2,
   "metadata": {},
   "outputs": [
    {
     "ename": "SyntaxError",
     "evalue": "unexpected EOF while parsing (<ipython-input-2-2ef1d5a7be8b>, line 3)",
     "output_type": "error",
     "traceback": [
      "\u001b[0;36m  File \u001b[0;32m\"<ipython-input-2-2ef1d5a7be8b>\"\u001b[0;36m, line \u001b[0;32m3\u001b[0m\n\u001b[0;31m    #class Rectangle(object):\u001b[0m\n\u001b[0m                             ^\u001b[0m\n\u001b[0;31mSyntaxError\u001b[0m\u001b[0;31m:\u001b[0m unexpected EOF while parsing\n"
     ]
    }
   ],
   "source": [
    "# Create a class: Circle\n",
    "class Circle(object):\n",
    "# class Rectangle(object):"
   ]
  },
  {
   "cell_type": "code",
   "execution_count": 7,
   "metadata": {},
   "outputs": [
    {
     "data": {
      "text/plain": [
       "'green'"
      ]
     },
     "execution_count": 7,
     "metadata": {},
     "output_type": "execute_result"
    }
   ],
   "source": [
    "class Circle(object):\n",
    "    def __init__(self, radius, color):\n",
    "        self.radius = radius\n",
    "        self.color = color\n",
    "Circle(5, \"green\").color"
   ]
  },
  {
   "cell_type": "code",
   "execution_count": 8,
   "metadata": {
    "collapsed": true
   },
   "outputs": [],
   "source": [
    "# Create a class: Rectangle\n",
    "class Rectangle(object):\n",
    "    def __init__(self, color, height, width):\n",
    "        self.height = height\n",
    "        self.width = width\n",
    "        self.color = color"
   ]
  },
  {
   "cell_type": "code",
   "execution_count": 9,
   "metadata": {
    "collapsed": true
   },
   "outputs": [],
   "source": [
    "# Create an Instance of a Class: Circle\n",
    "# How to create an object of class circle\n",
    "RedCircle = Circle(10, \"red\")"
   ]
  },
  {
   "cell_type": "code",
   "execution_count": 10,
   "metadata": {},
   "outputs": [
    {
     "data": {
      "text/plain": [
       "10"
      ]
     },
     "execution_count": 10,
     "metadata": {},
     "output_type": "execute_result"
    }
   ],
   "source": [
    "C1 = Circle(10, \"red\")\n",
    "C1.radius"
   ]
  },
  {
   "cell_type": "code",
   "execution_count": 11,
   "metadata": {},
   "outputs": [
    {
     "data": {
      "text/plain": [
       "'red'"
      ]
     },
     "execution_count": 11,
     "metadata": {},
     "output_type": "execute_result"
    }
   ],
   "source": [
    "C1.color"
   ]
  },
  {
   "cell_type": "code",
   "execution_count": 12,
   "metadata": {},
   "outputs": [
    {
     "data": {
      "text/plain": [
       "'blue'"
      ]
     },
     "execution_count": 12,
     "metadata": {},
     "output_type": "execute_result"
    }
   ],
   "source": [
    "C1.color = \"blue\"\n",
    "C1.color"
   ]
  },
  {
   "cell_type": "markdown",
   "metadata": {},
   "source": [
    "### Method"
   ]
  },
  {
   "cell_type": "code",
   "execution_count": 69,
   "metadata": {
    "collapsed": true
   },
   "outputs": [],
   "source": [
    "%matplotlib notebook"
   ]
  },
  {
   "cell_type": "code",
   "execution_count": 70,
   "metadata": {},
   "outputs": [],
   "source": [
    "import matplotlib.pyplot as plt"
   ]
  },
  {
   "cell_type": "code",
   "execution_count": 71,
   "metadata": {},
   "outputs": [],
   "source": [
    "# Create a class: Circle\n",
    "class Circle(object):\n",
    "    def __init__(self, radius=3, color='red'):\n",
    "        self.radius = radius;\n",
    "        self.color = color;\n",
    "    def add_radius(self, r):\n",
    "        self.radius = self.radius + r;\n",
    "        return(self.radius);\n",
    "    def drawCircle(self):\n",
    "        circle = plt.Circle((0, 0), self.radius, color = self.color)\n",
    "        fig, ax = plt.subplots()\n",
    "        ax.add_artist(circle)\n",
    "        plt.show()"
   ]
  },
  {
   "cell_type": "code",
   "execution_count": 17,
   "metadata": {},
   "outputs": [
    {
     "data": {
      "text/plain": [
       "10"
      ]
     },
     "execution_count": 17,
     "metadata": {},
     "output_type": "execute_result"
    }
   ],
   "source": [
    "# Create an instance of a circle: Circle\n",
    "C1 = Circle(2, 'red')\n",
    "C1.add_radius(8)"
   ]
  },
  {
   "cell_type": "code",
   "execution_count": 54,
   "metadata": {},
   "outputs": [
    {
     "data": {
      "text/plain": [
       "10"
      ]
     },
     "execution_count": 54,
     "metadata": {},
     "output_type": "execute_result"
    }
   ],
   "source": [
    "#Creating an instance of the class: Circle\n",
    "BlueCircle = Circle(10, \"blue\")\n",
    "BlueCircle.radius"
   ]
  },
  {
   "cell_type": "code",
   "execution_count": 55,
   "metadata": {},
   "outputs": [
    {
     "data": {
      "text/plain": [
       "'blue'"
      ]
     },
     "execution_count": 55,
     "metadata": {},
     "output_type": "execute_result"
    }
   ],
   "source": [
    "BlueCircle.color"
   ]
  },
  {
   "cell_type": "code",
   "execution_count": 53,
   "metadata": {},
   "outputs": [
    {
     "data": {
      "text/plain": [
       "3"
      ]
     },
     "execution_count": 53,
     "metadata": {},
     "output_type": "execute_result"
    }
   ],
   "source": [
    "RedCircle =  Circle(3, \"red\")\n",
    "RedCircle.radius"
   ]
  },
  {
   "cell_type": "code",
   "execution_count": 72,
   "metadata": {},
   "outputs": [
    {
     "data": {
      "application/javascript": [
       "/* Put everything inside the global mpl namespace */\n",
       "window.mpl = {};\n",
       "\n",
       "\n",
       "mpl.get_websocket_type = function() {\n",
       "    if (typeof(WebSocket) !== 'undefined') {\n",
       "        return WebSocket;\n",
       "    } else if (typeof(MozWebSocket) !== 'undefined') {\n",
       "        return MozWebSocket;\n",
       "    } else {\n",
       "        alert('Your browser does not have WebSocket support.' +\n",
       "              'Please try Chrome, Safari or Firefox ≥ 6. ' +\n",
       "              'Firefox 4 and 5 are also supported but you ' +\n",
       "              'have to enable WebSockets in about:config.');\n",
       "    };\n",
       "}\n",
       "\n",
       "mpl.figure = function(figure_id, websocket, ondownload, parent_element) {\n",
       "    this.id = figure_id;\n",
       "\n",
       "    this.ws = websocket;\n",
       "\n",
       "    this.supports_binary = (this.ws.binaryType != undefined);\n",
       "\n",
       "    if (!this.supports_binary) {\n",
       "        var warnings = document.getElementById(\"mpl-warnings\");\n",
       "        if (warnings) {\n",
       "            warnings.style.display = 'block';\n",
       "            warnings.textContent = (\n",
       "                \"This browser does not support binary websocket messages. \" +\n",
       "                    \"Performance may be slow.\");\n",
       "        }\n",
       "    }\n",
       "\n",
       "    this.imageObj = new Image();\n",
       "\n",
       "    this.context = undefined;\n",
       "    this.message = undefined;\n",
       "    this.canvas = undefined;\n",
       "    this.rubberband_canvas = undefined;\n",
       "    this.rubberband_context = undefined;\n",
       "    this.format_dropdown = undefined;\n",
       "\n",
       "    this.image_mode = 'full';\n",
       "\n",
       "    this.root = $('<div/>');\n",
       "    this._root_extra_style(this.root)\n",
       "    this.root.attr('style', 'display: inline-block');\n",
       "\n",
       "    $(parent_element).append(this.root);\n",
       "\n",
       "    this._init_header(this);\n",
       "    this._init_canvas(this);\n",
       "    this._init_toolbar(this);\n",
       "\n",
       "    var fig = this;\n",
       "\n",
       "    this.waiting = false;\n",
       "\n",
       "    this.ws.onopen =  function () {\n",
       "            fig.send_message(\"supports_binary\", {value: fig.supports_binary});\n",
       "            fig.send_message(\"send_image_mode\", {});\n",
       "            if (mpl.ratio != 1) {\n",
       "                fig.send_message(\"set_dpi_ratio\", {'dpi_ratio': mpl.ratio});\n",
       "            }\n",
       "            fig.send_message(\"refresh\", {});\n",
       "        }\n",
       "\n",
       "    this.imageObj.onload = function() {\n",
       "            if (fig.image_mode == 'full') {\n",
       "                // Full images could contain transparency (where diff images\n",
       "                // almost always do), so we need to clear the canvas so that\n",
       "                // there is no ghosting.\n",
       "                fig.context.clearRect(0, 0, fig.canvas.width, fig.canvas.height);\n",
       "            }\n",
       "            fig.context.drawImage(fig.imageObj, 0, 0);\n",
       "        };\n",
       "\n",
       "    this.imageObj.onunload = function() {\n",
       "        this.ws.close();\n",
       "    }\n",
       "\n",
       "    this.ws.onmessage = this._make_on_message_function(this);\n",
       "\n",
       "    this.ondownload = ondownload;\n",
       "}\n",
       "\n",
       "mpl.figure.prototype._init_header = function() {\n",
       "    var titlebar = $(\n",
       "        '<div class=\"ui-dialog-titlebar ui-widget-header ui-corner-all ' +\n",
       "        'ui-helper-clearfix\"/>');\n",
       "    var titletext = $(\n",
       "        '<div class=\"ui-dialog-title\" style=\"width: 100%; ' +\n",
       "        'text-align: center; padding: 3px;\"/>');\n",
       "    titlebar.append(titletext)\n",
       "    this.root.append(titlebar);\n",
       "    this.header = titletext[0];\n",
       "}\n",
       "\n",
       "\n",
       "\n",
       "mpl.figure.prototype._canvas_extra_style = function(canvas_div) {\n",
       "\n",
       "}\n",
       "\n",
       "\n",
       "mpl.figure.prototype._root_extra_style = function(canvas_div) {\n",
       "\n",
       "}\n",
       "\n",
       "mpl.figure.prototype._init_canvas = function() {\n",
       "    var fig = this;\n",
       "\n",
       "    var canvas_div = $('<div/>');\n",
       "\n",
       "    canvas_div.attr('style', 'position: relative; clear: both; outline: 0');\n",
       "\n",
       "    function canvas_keyboard_event(event) {\n",
       "        return fig.key_event(event, event['data']);\n",
       "    }\n",
       "\n",
       "    canvas_div.keydown('key_press', canvas_keyboard_event);\n",
       "    canvas_div.keyup('key_release', canvas_keyboard_event);\n",
       "    this.canvas_div = canvas_div\n",
       "    this._canvas_extra_style(canvas_div)\n",
       "    this.root.append(canvas_div);\n",
       "\n",
       "    var canvas = $('<canvas/>');\n",
       "    canvas.addClass('mpl-canvas');\n",
       "    canvas.attr('style', \"left: 0; top: 0; z-index: 0; outline: 0\")\n",
       "\n",
       "    this.canvas = canvas[0];\n",
       "    this.context = canvas[0].getContext(\"2d\");\n",
       "\n",
       "    var backingStore = this.context.backingStorePixelRatio ||\n",
       "\tthis.context.webkitBackingStorePixelRatio ||\n",
       "\tthis.context.mozBackingStorePixelRatio ||\n",
       "\tthis.context.msBackingStorePixelRatio ||\n",
       "\tthis.context.oBackingStorePixelRatio ||\n",
       "\tthis.context.backingStorePixelRatio || 1;\n",
       "\n",
       "    mpl.ratio = (window.devicePixelRatio || 1) / backingStore;\n",
       "\n",
       "    var rubberband = $('<canvas/>');\n",
       "    rubberband.attr('style', \"position: absolute; left: 0; top: 0; z-index: 1;\")\n",
       "\n",
       "    var pass_mouse_events = true;\n",
       "\n",
       "    canvas_div.resizable({\n",
       "        start: function(event, ui) {\n",
       "            pass_mouse_events = false;\n",
       "        },\n",
       "        resize: function(event, ui) {\n",
       "            fig.request_resize(ui.size.width, ui.size.height);\n",
       "        },\n",
       "        stop: function(event, ui) {\n",
       "            pass_mouse_events = true;\n",
       "            fig.request_resize(ui.size.width, ui.size.height);\n",
       "        },\n",
       "    });\n",
       "\n",
       "    function mouse_event_fn(event) {\n",
       "        if (pass_mouse_events)\n",
       "            return fig.mouse_event(event, event['data']);\n",
       "    }\n",
       "\n",
       "    rubberband.mousedown('button_press', mouse_event_fn);\n",
       "    rubberband.mouseup('button_release', mouse_event_fn);\n",
       "    // Throttle sequential mouse events to 1 every 20ms.\n",
       "    rubberband.mousemove('motion_notify', mouse_event_fn);\n",
       "\n",
       "    rubberband.mouseenter('figure_enter', mouse_event_fn);\n",
       "    rubberband.mouseleave('figure_leave', mouse_event_fn);\n",
       "\n",
       "    canvas_div.on(\"wheel\", function (event) {\n",
       "        event = event.originalEvent;\n",
       "        event['data'] = 'scroll'\n",
       "        if (event.deltaY < 0) {\n",
       "            event.step = 1;\n",
       "        } else {\n",
       "            event.step = -1;\n",
       "        }\n",
       "        mouse_event_fn(event);\n",
       "    });\n",
       "\n",
       "    canvas_div.append(canvas);\n",
       "    canvas_div.append(rubberband);\n",
       "\n",
       "    this.rubberband = rubberband;\n",
       "    this.rubberband_canvas = rubberband[0];\n",
       "    this.rubberband_context = rubberband[0].getContext(\"2d\");\n",
       "    this.rubberband_context.strokeStyle = \"#000000\";\n",
       "\n",
       "    this._resize_canvas = function(width, height) {\n",
       "        // Keep the size of the canvas, canvas container, and rubber band\n",
       "        // canvas in synch.\n",
       "        canvas_div.css('width', width)\n",
       "        canvas_div.css('height', height)\n",
       "\n",
       "        canvas.attr('width', width * mpl.ratio);\n",
       "        canvas.attr('height', height * mpl.ratio);\n",
       "        canvas.attr('style', 'width: ' + width + 'px; height: ' + height + 'px;');\n",
       "\n",
       "        rubberband.attr('width', width);\n",
       "        rubberband.attr('height', height);\n",
       "    }\n",
       "\n",
       "    // Set the figure to an initial 600x600px, this will subsequently be updated\n",
       "    // upon first draw.\n",
       "    this._resize_canvas(600, 600);\n",
       "\n",
       "    // Disable right mouse context menu.\n",
       "    $(this.rubberband_canvas).bind(\"contextmenu\",function(e){\n",
       "        return false;\n",
       "    });\n",
       "\n",
       "    function set_focus () {\n",
       "        canvas.focus();\n",
       "        canvas_div.focus();\n",
       "    }\n",
       "\n",
       "    window.setTimeout(set_focus, 100);\n",
       "}\n",
       "\n",
       "mpl.figure.prototype._init_toolbar = function() {\n",
       "    var fig = this;\n",
       "\n",
       "    var nav_element = $('<div/>')\n",
       "    nav_element.attr('style', 'width: 100%');\n",
       "    this.root.append(nav_element);\n",
       "\n",
       "    // Define a callback function for later on.\n",
       "    function toolbar_event(event) {\n",
       "        return fig.toolbar_button_onclick(event['data']);\n",
       "    }\n",
       "    function toolbar_mouse_event(event) {\n",
       "        return fig.toolbar_button_onmouseover(event['data']);\n",
       "    }\n",
       "\n",
       "    for(var toolbar_ind in mpl.toolbar_items) {\n",
       "        var name = mpl.toolbar_items[toolbar_ind][0];\n",
       "        var tooltip = mpl.toolbar_items[toolbar_ind][1];\n",
       "        var image = mpl.toolbar_items[toolbar_ind][2];\n",
       "        var method_name = mpl.toolbar_items[toolbar_ind][3];\n",
       "\n",
       "        if (!name) {\n",
       "            // put a spacer in here.\n",
       "            continue;\n",
       "        }\n",
       "        var button = $('<button/>');\n",
       "        button.addClass('ui-button ui-widget ui-state-default ui-corner-all ' +\n",
       "                        'ui-button-icon-only');\n",
       "        button.attr('role', 'button');\n",
       "        button.attr('aria-disabled', 'false');\n",
       "        button.click(method_name, toolbar_event);\n",
       "        button.mouseover(tooltip, toolbar_mouse_event);\n",
       "\n",
       "        var icon_img = $('<span/>');\n",
       "        icon_img.addClass('ui-button-icon-primary ui-icon');\n",
       "        icon_img.addClass(image);\n",
       "        icon_img.addClass('ui-corner-all');\n",
       "\n",
       "        var tooltip_span = $('<span/>');\n",
       "        tooltip_span.addClass('ui-button-text');\n",
       "        tooltip_span.html(tooltip);\n",
       "\n",
       "        button.append(icon_img);\n",
       "        button.append(tooltip_span);\n",
       "\n",
       "        nav_element.append(button);\n",
       "    }\n",
       "\n",
       "    var fmt_picker_span = $('<span/>');\n",
       "\n",
       "    var fmt_picker = $('<select/>');\n",
       "    fmt_picker.addClass('mpl-toolbar-option ui-widget ui-widget-content');\n",
       "    fmt_picker_span.append(fmt_picker);\n",
       "    nav_element.append(fmt_picker_span);\n",
       "    this.format_dropdown = fmt_picker[0];\n",
       "\n",
       "    for (var ind in mpl.extensions) {\n",
       "        var fmt = mpl.extensions[ind];\n",
       "        var option = $(\n",
       "            '<option/>', {selected: fmt === mpl.default_extension}).html(fmt);\n",
       "        fmt_picker.append(option)\n",
       "    }\n",
       "\n",
       "    // Add hover states to the ui-buttons\n",
       "    $( \".ui-button\" ).hover(\n",
       "        function() { $(this).addClass(\"ui-state-hover\");},\n",
       "        function() { $(this).removeClass(\"ui-state-hover\");}\n",
       "    );\n",
       "\n",
       "    var status_bar = $('<span class=\"mpl-message\"/>');\n",
       "    nav_element.append(status_bar);\n",
       "    this.message = status_bar[0];\n",
       "}\n",
       "\n",
       "mpl.figure.prototype.request_resize = function(x_pixels, y_pixels) {\n",
       "    // Request matplotlib to resize the figure. Matplotlib will then trigger a resize in the client,\n",
       "    // which will in turn request a refresh of the image.\n",
       "    this.send_message('resize', {'width': x_pixels, 'height': y_pixels});\n",
       "}\n",
       "\n",
       "mpl.figure.prototype.send_message = function(type, properties) {\n",
       "    properties['type'] = type;\n",
       "    properties['figure_id'] = this.id;\n",
       "    this.ws.send(JSON.stringify(properties));\n",
       "}\n",
       "\n",
       "mpl.figure.prototype.send_draw_message = function() {\n",
       "    if (!this.waiting) {\n",
       "        this.waiting = true;\n",
       "        this.ws.send(JSON.stringify({type: \"draw\", figure_id: this.id}));\n",
       "    }\n",
       "}\n",
       "\n",
       "\n",
       "mpl.figure.prototype.handle_save = function(fig, msg) {\n",
       "    var format_dropdown = fig.format_dropdown;\n",
       "    var format = format_dropdown.options[format_dropdown.selectedIndex].value;\n",
       "    fig.ondownload(fig, format);\n",
       "}\n",
       "\n",
       "\n",
       "mpl.figure.prototype.handle_resize = function(fig, msg) {\n",
       "    var size = msg['size'];\n",
       "    if (size[0] != fig.canvas.width || size[1] != fig.canvas.height) {\n",
       "        fig._resize_canvas(size[0], size[1]);\n",
       "        fig.send_message(\"refresh\", {});\n",
       "    };\n",
       "}\n",
       "\n",
       "mpl.figure.prototype.handle_rubberband = function(fig, msg) {\n",
       "    var x0 = msg['x0'] / mpl.ratio;\n",
       "    var y0 = (fig.canvas.height - msg['y0']) / mpl.ratio;\n",
       "    var x1 = msg['x1'] / mpl.ratio;\n",
       "    var y1 = (fig.canvas.height - msg['y1']) / mpl.ratio;\n",
       "    x0 = Math.floor(x0) + 0.5;\n",
       "    y0 = Math.floor(y0) + 0.5;\n",
       "    x1 = Math.floor(x1) + 0.5;\n",
       "    y1 = Math.floor(y1) + 0.5;\n",
       "    var min_x = Math.min(x0, x1);\n",
       "    var min_y = Math.min(y0, y1);\n",
       "    var width = Math.abs(x1 - x0);\n",
       "    var height = Math.abs(y1 - y0);\n",
       "\n",
       "    fig.rubberband_context.clearRect(\n",
       "        0, 0, fig.canvas.width, fig.canvas.height);\n",
       "\n",
       "    fig.rubberband_context.strokeRect(min_x, min_y, width, height);\n",
       "}\n",
       "\n",
       "mpl.figure.prototype.handle_figure_label = function(fig, msg) {\n",
       "    // Updates the figure title.\n",
       "    fig.header.textContent = msg['label'];\n",
       "}\n",
       "\n",
       "mpl.figure.prototype.handle_cursor = function(fig, msg) {\n",
       "    var cursor = msg['cursor'];\n",
       "    switch(cursor)\n",
       "    {\n",
       "    case 0:\n",
       "        cursor = 'pointer';\n",
       "        break;\n",
       "    case 1:\n",
       "        cursor = 'default';\n",
       "        break;\n",
       "    case 2:\n",
       "        cursor = 'crosshair';\n",
       "        break;\n",
       "    case 3:\n",
       "        cursor = 'move';\n",
       "        break;\n",
       "    }\n",
       "    fig.rubberband_canvas.style.cursor = cursor;\n",
       "}\n",
       "\n",
       "mpl.figure.prototype.handle_message = function(fig, msg) {\n",
       "    fig.message.textContent = msg['message'];\n",
       "}\n",
       "\n",
       "mpl.figure.prototype.handle_draw = function(fig, msg) {\n",
       "    // Request the server to send over a new figure.\n",
       "    fig.send_draw_message();\n",
       "}\n",
       "\n",
       "mpl.figure.prototype.handle_image_mode = function(fig, msg) {\n",
       "    fig.image_mode = msg['mode'];\n",
       "}\n",
       "\n",
       "mpl.figure.prototype.updated_canvas_event = function() {\n",
       "    // Called whenever the canvas gets updated.\n",
       "    this.send_message(\"ack\", {});\n",
       "}\n",
       "\n",
       "// A function to construct a web socket function for onmessage handling.\n",
       "// Called in the figure constructor.\n",
       "mpl.figure.prototype._make_on_message_function = function(fig) {\n",
       "    return function socket_on_message(evt) {\n",
       "        if (evt.data instanceof Blob) {\n",
       "            /* FIXME: We get \"Resource interpreted as Image but\n",
       "             * transferred with MIME type text/plain:\" errors on\n",
       "             * Chrome.  But how to set the MIME type?  It doesn't seem\n",
       "             * to be part of the websocket stream */\n",
       "            evt.data.type = \"image/png\";\n",
       "\n",
       "            /* Free the memory for the previous frames */\n",
       "            if (fig.imageObj.src) {\n",
       "                (window.URL || window.webkitURL).revokeObjectURL(\n",
       "                    fig.imageObj.src);\n",
       "            }\n",
       "\n",
       "            fig.imageObj.src = (window.URL || window.webkitURL).createObjectURL(\n",
       "                evt.data);\n",
       "            fig.updated_canvas_event();\n",
       "            fig.waiting = false;\n",
       "            return;\n",
       "        }\n",
       "        else if (typeof evt.data === 'string' && evt.data.slice(0, 21) == \"data:image/png;base64\") {\n",
       "            fig.imageObj.src = evt.data;\n",
       "            fig.updated_canvas_event();\n",
       "            fig.waiting = false;\n",
       "            return;\n",
       "        }\n",
       "\n",
       "        var msg = JSON.parse(evt.data);\n",
       "        var msg_type = msg['type'];\n",
       "\n",
       "        // Call the  \"handle_{type}\" callback, which takes\n",
       "        // the figure and JSON message as its only arguments.\n",
       "        try {\n",
       "            var callback = fig[\"handle_\" + msg_type];\n",
       "        } catch (e) {\n",
       "            console.log(\"No handler for the '\" + msg_type + \"' message type: \", msg);\n",
       "            return;\n",
       "        }\n",
       "\n",
       "        if (callback) {\n",
       "            try {\n",
       "                // console.log(\"Handling '\" + msg_type + \"' message: \", msg);\n",
       "                callback(fig, msg);\n",
       "            } catch (e) {\n",
       "                console.log(\"Exception inside the 'handler_\" + msg_type + \"' callback:\", e, e.stack, msg);\n",
       "            }\n",
       "        }\n",
       "    };\n",
       "}\n",
       "\n",
       "// from http://stackoverflow.com/questions/1114465/getting-mouse-location-in-canvas\n",
       "mpl.findpos = function(e) {\n",
       "    //this section is from http://www.quirksmode.org/js/events_properties.html\n",
       "    var targ;\n",
       "    if (!e)\n",
       "        e = window.event;\n",
       "    if (e.target)\n",
       "        targ = e.target;\n",
       "    else if (e.srcElement)\n",
       "        targ = e.srcElement;\n",
       "    if (targ.nodeType == 3) // defeat Safari bug\n",
       "        targ = targ.parentNode;\n",
       "\n",
       "    // jQuery normalizes the pageX and pageY\n",
       "    // pageX,Y are the mouse positions relative to the document\n",
       "    // offset() returns the position of the element relative to the document\n",
       "    var x = e.pageX - $(targ).offset().left;\n",
       "    var y = e.pageY - $(targ).offset().top;\n",
       "\n",
       "    return {\"x\": x, \"y\": y};\n",
       "};\n",
       "\n",
       "/*\n",
       " * return a copy of an object with only non-object keys\n",
       " * we need this to avoid circular references\n",
       " * http://stackoverflow.com/a/24161582/3208463\n",
       " */\n",
       "function simpleKeys (original) {\n",
       "  return Object.keys(original).reduce(function (obj, key) {\n",
       "    if (typeof original[key] !== 'object')\n",
       "        obj[key] = original[key]\n",
       "    return obj;\n",
       "  }, {});\n",
       "}\n",
       "\n",
       "mpl.figure.prototype.mouse_event = function(event, name) {\n",
       "    var canvas_pos = mpl.findpos(event)\n",
       "\n",
       "    if (name === 'button_press')\n",
       "    {\n",
       "        this.canvas.focus();\n",
       "        this.canvas_div.focus();\n",
       "    }\n",
       "\n",
       "    var x = canvas_pos.x * mpl.ratio;\n",
       "    var y = canvas_pos.y * mpl.ratio;\n",
       "\n",
       "    this.send_message(name, {x: x, y: y, button: event.button,\n",
       "                             step: event.step,\n",
       "                             guiEvent: simpleKeys(event)});\n",
       "\n",
       "    /* This prevents the web browser from automatically changing to\n",
       "     * the text insertion cursor when the button is pressed.  We want\n",
       "     * to control all of the cursor setting manually through the\n",
       "     * 'cursor' event from matplotlib */\n",
       "    event.preventDefault();\n",
       "    return false;\n",
       "}\n",
       "\n",
       "mpl.figure.prototype._key_event_extra = function(event, name) {\n",
       "    // Handle any extra behaviour associated with a key event\n",
       "}\n",
       "\n",
       "mpl.figure.prototype.key_event = function(event, name) {\n",
       "\n",
       "    // Prevent repeat events\n",
       "    if (name == 'key_press')\n",
       "    {\n",
       "        if (event.which === this._key)\n",
       "            return;\n",
       "        else\n",
       "            this._key = event.which;\n",
       "    }\n",
       "    if (name == 'key_release')\n",
       "        this._key = null;\n",
       "\n",
       "    var value = '';\n",
       "    if (event.ctrlKey && event.which != 17)\n",
       "        value += \"ctrl+\";\n",
       "    if (event.altKey && event.which != 18)\n",
       "        value += \"alt+\";\n",
       "    if (event.shiftKey && event.which != 16)\n",
       "        value += \"shift+\";\n",
       "\n",
       "    value += 'k';\n",
       "    value += event.which.toString();\n",
       "\n",
       "    this._key_event_extra(event, name);\n",
       "\n",
       "    this.send_message(name, {key: value,\n",
       "                             guiEvent: simpleKeys(event)});\n",
       "    return false;\n",
       "}\n",
       "\n",
       "mpl.figure.prototype.toolbar_button_onclick = function(name) {\n",
       "    if (name == 'download') {\n",
       "        this.handle_save(this, null);\n",
       "    } else {\n",
       "        this.send_message(\"toolbar_button\", {name: name});\n",
       "    }\n",
       "};\n",
       "\n",
       "mpl.figure.prototype.toolbar_button_onmouseover = function(tooltip) {\n",
       "    this.message.textContent = tooltip;\n",
       "};\n",
       "mpl.toolbar_items = [[\"Home\", \"Reset original view\", \"fa fa-home icon-home\", \"home\"], [\"Back\", \"Back to  previous view\", \"fa fa-arrow-left icon-arrow-left\", \"back\"], [\"Forward\", \"Forward to next view\", \"fa fa-arrow-right icon-arrow-right\", \"forward\"], [\"\", \"\", \"\", \"\"], [\"Pan\", \"Pan axes with left mouse, zoom with right\", \"fa fa-arrows icon-move\", \"pan\"], [\"Zoom\", \"Zoom to rectangle\", \"fa fa-square-o icon-check-empty\", \"zoom\"], [\"\", \"\", \"\", \"\"], [\"Download\", \"Download plot\", \"fa fa-floppy-o icon-save\", \"download\"]];\n",
       "\n",
       "mpl.extensions = [\"eps\", \"jpeg\", \"pdf\", \"png\", \"ps\", \"raw\", \"svg\", \"tif\"];\n",
       "\n",
       "mpl.default_extension = \"png\";var comm_websocket_adapter = function(comm) {\n",
       "    // Create a \"websocket\"-like object which calls the given IPython comm\n",
       "    // object with the appropriate methods. Currently this is a non binary\n",
       "    // socket, so there is still some room for performance tuning.\n",
       "    var ws = {};\n",
       "\n",
       "    ws.close = function() {\n",
       "        comm.close()\n",
       "    };\n",
       "    ws.send = function(m) {\n",
       "        //console.log('sending', m);\n",
       "        comm.send(m);\n",
       "    };\n",
       "    // Register the callback with on_msg.\n",
       "    comm.on_msg(function(msg) {\n",
       "        //console.log('receiving', msg['content']['data'], msg);\n",
       "        // Pass the mpl event to the overriden (by mpl) onmessage function.\n",
       "        ws.onmessage(msg['content']['data'])\n",
       "    });\n",
       "    return ws;\n",
       "}\n",
       "\n",
       "mpl.mpl_figure_comm = function(comm, msg) {\n",
       "    // This is the function which gets called when the mpl process\n",
       "    // starts-up an IPython Comm through the \"matplotlib\" channel.\n",
       "\n",
       "    var id = msg.content.data.id;\n",
       "    // Get hold of the div created by the display call when the Comm\n",
       "    // socket was opened in Python.\n",
       "    var element = $(\"#\" + id);\n",
       "    var ws_proxy = comm_websocket_adapter(comm)\n",
       "\n",
       "    function ondownload(figure, format) {\n",
       "        window.open(figure.imageObj.src);\n",
       "    }\n",
       "\n",
       "    var fig = new mpl.figure(id, ws_proxy,\n",
       "                           ondownload,\n",
       "                           element.get(0));\n",
       "\n",
       "    // Call onopen now - mpl needs it, as it is assuming we've passed it a real\n",
       "    // web socket which is closed, not our websocket->open comm proxy.\n",
       "    ws_proxy.onopen();\n",
       "\n",
       "    fig.parent_element = element.get(0);\n",
       "    fig.cell_info = mpl.find_output_cell(\"<div id='\" + id + \"'></div>\");\n",
       "    if (!fig.cell_info) {\n",
       "        console.error(\"Failed to find cell for figure\", id, fig);\n",
       "        return;\n",
       "    }\n",
       "\n",
       "    var output_index = fig.cell_info[2]\n",
       "    var cell = fig.cell_info[0];\n",
       "\n",
       "};\n",
       "\n",
       "mpl.figure.prototype.handle_close = function(fig, msg) {\n",
       "    var width = fig.canvas.width/mpl.ratio\n",
       "    fig.root.unbind('remove')\n",
       "\n",
       "    // Update the output cell to use the data from the current canvas.\n",
       "    fig.push_to_output();\n",
       "    var dataURL = fig.canvas.toDataURL();\n",
       "    // Re-enable the keyboard manager in IPython - without this line, in FF,\n",
       "    // the notebook keyboard shortcuts fail.\n",
       "    IPython.keyboard_manager.enable()\n",
       "    $(fig.parent_element).html('<img src=\"' + dataURL + '\" width=\"' + width + '\">');\n",
       "    fig.close_ws(fig, msg);\n",
       "}\n",
       "\n",
       "mpl.figure.prototype.close_ws = function(fig, msg){\n",
       "    fig.send_message('closing', msg);\n",
       "    // fig.ws.close()\n",
       "}\n",
       "\n",
       "mpl.figure.prototype.push_to_output = function(remove_interactive) {\n",
       "    // Turn the data on the canvas into data in the output cell.\n",
       "    var width = this.canvas.width/mpl.ratio\n",
       "    var dataURL = this.canvas.toDataURL();\n",
       "    this.cell_info[1]['text/html'] = '<img src=\"' + dataURL + '\" width=\"' + width + '\">';\n",
       "}\n",
       "\n",
       "mpl.figure.prototype.updated_canvas_event = function() {\n",
       "    // Tell IPython that the notebook contents must change.\n",
       "    IPython.notebook.set_dirty(true);\n",
       "    this.send_message(\"ack\", {});\n",
       "    var fig = this;\n",
       "    // Wait a second, then push the new image to the DOM so\n",
       "    // that it is saved nicely (might be nice to debounce this).\n",
       "    setTimeout(function () { fig.push_to_output() }, 1000);\n",
       "}\n",
       "\n",
       "mpl.figure.prototype._init_toolbar = function() {\n",
       "    var fig = this;\n",
       "\n",
       "    var nav_element = $('<div/>')\n",
       "    nav_element.attr('style', 'width: 100%');\n",
       "    this.root.append(nav_element);\n",
       "\n",
       "    // Define a callback function for later on.\n",
       "    function toolbar_event(event) {\n",
       "        return fig.toolbar_button_onclick(event['data']);\n",
       "    }\n",
       "    function toolbar_mouse_event(event) {\n",
       "        return fig.toolbar_button_onmouseover(event['data']);\n",
       "    }\n",
       "\n",
       "    for(var toolbar_ind in mpl.toolbar_items){\n",
       "        var name = mpl.toolbar_items[toolbar_ind][0];\n",
       "        var tooltip = mpl.toolbar_items[toolbar_ind][1];\n",
       "        var image = mpl.toolbar_items[toolbar_ind][2];\n",
       "        var method_name = mpl.toolbar_items[toolbar_ind][3];\n",
       "\n",
       "        if (!name) { continue; };\n",
       "\n",
       "        var button = $('<button class=\"btn btn-default\" href=\"#\" title=\"' + name + '\"><i class=\"fa ' + image + ' fa-lg\"></i></button>');\n",
       "        button.click(method_name, toolbar_event);\n",
       "        button.mouseover(tooltip, toolbar_mouse_event);\n",
       "        nav_element.append(button);\n",
       "    }\n",
       "\n",
       "    // Add the status bar.\n",
       "    var status_bar = $('<span class=\"mpl-message\" style=\"text-align:right; float: right;\"/>');\n",
       "    nav_element.append(status_bar);\n",
       "    this.message = status_bar[0];\n",
       "\n",
       "    // Add the close button to the window.\n",
       "    var buttongrp = $('<div class=\"btn-group inline pull-right\"></div>');\n",
       "    var button = $('<button class=\"btn btn-mini btn-primary\" href=\"#\" title=\"Stop Interaction\"><i class=\"fa fa-power-off icon-remove icon-large\"></i></button>');\n",
       "    button.click(function (evt) { fig.handle_close(fig, {}); } );\n",
       "    button.mouseover('Stop Interaction', toolbar_mouse_event);\n",
       "    buttongrp.append(button);\n",
       "    var titlebar = this.root.find($('.ui-dialog-titlebar'));\n",
       "    titlebar.prepend(buttongrp);\n",
       "}\n",
       "\n",
       "mpl.figure.prototype._root_extra_style = function(el){\n",
       "    var fig = this\n",
       "    el.on(\"remove\", function(){\n",
       "\tfig.close_ws(fig, {});\n",
       "    });\n",
       "}\n",
       "\n",
       "mpl.figure.prototype._canvas_extra_style = function(el){\n",
       "    // this is important to make the div 'focusable\n",
       "    el.attr('tabindex', 0)\n",
       "    // reach out to IPython and tell the keyboard manager to turn it's self\n",
       "    // off when our div gets focus\n",
       "\n",
       "    // location in version 3\n",
       "    if (IPython.notebook.keyboard_manager) {\n",
       "        IPython.notebook.keyboard_manager.register_events(el);\n",
       "    }\n",
       "    else {\n",
       "        // location in version 2\n",
       "        IPython.keyboard_manager.register_events(el);\n",
       "    }\n",
       "\n",
       "}\n",
       "\n",
       "mpl.figure.prototype._key_event_extra = function(event, name) {\n",
       "    var manager = IPython.notebook.keyboard_manager;\n",
       "    if (!manager)\n",
       "        manager = IPython.keyboard_manager;\n",
       "\n",
       "    // Check for shift+enter\n",
       "    if (event.shiftKey && event.which == 13) {\n",
       "        this.canvas_div.blur();\n",
       "        // select the cell after this one\n",
       "        var index = IPython.notebook.find_cell_index(this.cell_info[0]);\n",
       "        IPython.notebook.select(index + 1);\n",
       "    }\n",
       "}\n",
       "\n",
       "mpl.figure.prototype.handle_save = function(fig, msg) {\n",
       "    fig.ondownload(fig, null);\n",
       "}\n",
       "\n",
       "\n",
       "mpl.find_output_cell = function(html_output) {\n",
       "    // Return the cell and output element which can be found *uniquely* in the notebook.\n",
       "    // Note - this is a bit hacky, but it is done because the \"notebook_saving.Notebook\"\n",
       "    // IPython event is triggered only after the cells have been serialised, which for\n",
       "    // our purposes (turning an active figure into a static one), is too late.\n",
       "    var cells = IPython.notebook.get_cells();\n",
       "    var ncells = cells.length;\n",
       "    for (var i=0; i<ncells; i++) {\n",
       "        var cell = cells[i];\n",
       "        if (cell.cell_type === 'code'){\n",
       "            for (var j=0; j<cell.output_area.outputs.length; j++) {\n",
       "                var data = cell.output_area.outputs[j];\n",
       "                if (data.data) {\n",
       "                    // IPython >= 3 moved mimebundle to data attribute of output\n",
       "                    data = data.data;\n",
       "                }\n",
       "                if (data['text/html'] == html_output) {\n",
       "                    return [cell, data, j];\n",
       "                }\n",
       "            }\n",
       "        }\n",
       "    }\n",
       "}\n",
       "\n",
       "// Register the function which deals with the matplotlib target/channel.\n",
       "// The kernel may be null if the page has been refreshed.\n",
       "if (IPython.notebook.kernel != null) {\n",
       "    IPython.notebook.kernel.comm_manager.register_target('matplotlib', mpl.mpl_figure_comm);\n",
       "}\n"
      ],
      "text/plain": [
       "<IPython.core.display.Javascript object>"
      ]
     },
     "metadata": {},
     "output_type": "display_data"
    },
    {
     "data": {
      "text/html": [
       "<img src=\"data:image/png;base64,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\" width=\"639.4444613839378\">"
      ],
      "text/plain": [
       "<IPython.core.display.HTML object>"
      ]
     },
     "metadata": {},
     "output_type": "display_data"
    }
   ],
   "source": [
    "BlueCircle.drawCircle()"
   ]
  },
  {
   "cell_type": "code",
   "execution_count": 51,
   "metadata": {},
   "outputs": [
    {
     "data": {
      "text/plain": [
       "'red'"
      ]
     },
     "execution_count": 51,
     "metadata": {},
     "output_type": "execute_result"
    }
   ],
   "source": [
    "RedCircle.color"
   ]
  },
  {
   "cell_type": "code",
   "execution_count": 52,
   "metadata": {
    "collapsed": true
   },
   "outputs": [],
   "source": [
    "RedCircle.drawCircle()"
   ]
  },
  {
   "cell_type": "code",
   "execution_count": 57,
   "metadata": {
    "collapsed": true
   },
   "outputs": [],
   "source": [
    "# Two instances of the class: Circle"
   ]
  },
  {
   "cell_type": "code",
   "execution_count": 59,
   "metadata": {
    "collapsed": true
   },
   "outputs": [],
   "source": [
    "# Creating an instance of the class: Rectangle\n",
    "FatYellowRectangle = Rectangle(20, 5, \"yellow\")"
   ]
  },
  {
   "cell_type": "code",
   "execution_count": 60,
   "metadata": {},
   "outputs": [
    {
     "data": {
      "text/plain": [
       "5"
      ]
     },
     "execution_count": 60,
     "metadata": {},
     "output_type": "execute_result"
    }
   ],
   "source": [
    "FatYellowRectangle.height"
   ]
  },
  {
   "cell_type": "code",
   "execution_count": 62,
   "metadata": {},
   "outputs": [
    {
     "data": {
      "text/plain": [
       "'yellow'"
      ]
     },
     "execution_count": 62,
     "metadata": {},
     "output_type": "execute_result"
    }
   ],
   "source": [
    "FatYellowRectangle.width"
   ]
  },
  {
   "cell_type": "code",
   "execution_count": 63,
   "metadata": {},
   "outputs": [
    {
     "data": {
      "text/plain": [
       "20"
      ]
     },
     "execution_count": 63,
     "metadata": {},
     "output_type": "execute_result"
    }
   ],
   "source": [
    "FatYellowRectangle.color"
   ]
  },
  {
   "cell_type": "code",
   "execution_count": 64,
   "metadata": {},
   "outputs": [
    {
     "ename": "NameError",
     "evalue": "name 'Nameofobject' is not defined",
     "output_type": "error",
     "traceback": [
      "\u001b[0;31m---------------------------------------------------------------------------\u001b[0m",
      "\u001b[0;31mNameError\u001b[0m                                 Traceback (most recent call last)",
      "\u001b[0;32m<ipython-input-64-f485935844ce>\u001b[0m in \u001b[0;36m<module>\u001b[0;34m()\u001b[0m\n\u001b[1;32m      1\u001b[0m \u001b[0;31m# Create a class: Circle\u001b[0m\u001b[0;34m\u001b[0m\u001b[0;34m\u001b[0m\u001b[0m\n\u001b[0;32m----> 2\u001b[0;31m \u001b[0mdir\u001b[0m\u001b[0;34m(\u001b[0m\u001b[0mNameofobject\u001b[0m\u001b[0;34m)\u001b[0m\u001b[0;34m\u001b[0m\u001b[0m\n\u001b[0m",
      "\u001b[0;31mNameError\u001b[0m: name 'Nameofobject' is not defined"
     ]
    }
   ],
   "source": [
    "# Create a class: Circle\n",
    "dir(Nameofobject)"
   ]
  },
  {
   "cell_type": "code",
   "execution_count": 65,
   "metadata": {},
   "outputs": [
    {
     "data": {
      "text/plain": [
       "['__class__',\n",
       " '__delattr__',\n",
       " '__dict__',\n",
       " '__dir__',\n",
       " '__doc__',\n",
       " '__eq__',\n",
       " '__format__',\n",
       " '__ge__',\n",
       " '__getattribute__',\n",
       " '__gt__',\n",
       " '__hash__',\n",
       " '__init__',\n",
       " '__init_subclass__',\n",
       " '__le__',\n",
       " '__lt__',\n",
       " '__module__',\n",
       " '__ne__',\n",
       " '__new__',\n",
       " '__reduce__',\n",
       " '__reduce_ex__',\n",
       " '__repr__',\n",
       " '__setattr__',\n",
       " '__sizeof__',\n",
       " '__str__',\n",
       " '__subclasshook__',\n",
       " '__weakref__',\n",
       " 'add_radius',\n",
       " 'drawCircle']"
      ]
     },
     "execution_count": 65,
     "metadata": {},
     "output_type": "execute_result"
    }
   ],
   "source": [
    "dir(Circle)"
   ]
  },
  {
   "cell_type": "markdown",
   "metadata": {},
   "source": [
    "## Tests"
   ]
  },
  {
   "cell_type": "code",
   "execution_count": 73,
   "metadata": {
    "collapsed": true
   },
   "outputs": [],
   "source": [
    "class Rectangle(object):\n",
    "    \n",
    "    def __init__(self,width=2,height =3,color='r'):\n",
    "        self.height=height \n",
    "        self.width=width\n",
    "        self.color=color\n",
    "    \n",
    "    def drawRectangle(self):\n",
    "        import matplotlib.pyplot as plt\n",
    "        plt.gca().add_patch(plt.Rectangle((0, 0),self.width, self.height ,fc=self.color))\n",
    "        plt.axis('scaled')\n",
    "        plt.show()"
   ]
  },
  {
   "cell_type": "code",
   "execution_count": 79,
   "metadata": {
    "collapsed": true
   },
   "outputs": [],
   "source": [
    "yellowRectangle = Rectangle(20, 8, \"yellow\")"
   ]
  },
  {
   "cell_type": "code",
   "execution_count": 78,
   "metadata": {
    "collapsed": true
   },
   "outputs": [],
   "source": [
    "yellowRectangle.drawRectangle()"
   ]
  },
  {
   "cell_type": "code",
   "execution_count": 80,
   "metadata": {},
   "outputs": [
    {
     "name": "stdout",
     "output_type": "stream",
     "text": [
      "x= A  y= B\n"
     ]
    }
   ],
   "source": [
    "class Points(object):\n",
    "  def __init__(self,x,y):\n",
    "\n",
    "    self.x=x\n",
    "    self.y=y\n",
    "\n",
    "  def print_point(self):\n",
    "\n",
    "    print('x=',self.x,' y=',self.y)\n",
    "\n",
    "p1=Points(\"A\",\"B\")\n",
    "p1.print_point()"
   ]
  },
  {
   "cell_type": "code",
   "execution_count": 81,
   "metadata": {},
   "outputs": [
    {
     "name": "stdout",
     "output_type": "stream",
     "text": [
      "x= 2  y= 2\n"
     ]
    }
   ],
   "source": [
    "class Points(object):\n",
    "  def __init__(self,x,y):\n",
    "\n",
    "    self.x=x\n",
    "    self.y=y\n",
    "\n",
    "  def print_point(self):\n",
    "\n",
    "    print('x=',self.x,' y=',self.y)\n",
    "\n",
    "p2=Points(1,2)\n",
    "\n",
    "p2.x=2\n",
    "\n",
    "p2.print_point()"
   ]
  },
  {
   "cell_type": "code",
   "execution_count": null,
   "metadata": {
    "collapsed": true
   },
   "outputs": [],
   "source": []
  }
 ],
 "metadata": {
  "kernelspec": {
   "display_name": "Python 3",
   "language": "python",
   "name": "python3"
  },
  "language_info": {
   "codemirror_mode": {
    "name": "ipython",
    "version": 3
   },
   "file_extension": ".py",
   "mimetype": "text/x-python",
   "name": "python",
   "nbconvert_exporter": "python",
   "pygments_lexer": "ipython3",
   "version": "3.6.1"
  }
 },
 "nbformat": 4,
 "nbformat_minor": 2
}
