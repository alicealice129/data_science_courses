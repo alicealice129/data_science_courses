{
 "cells": [
  {
   "cell_type": "markdown",
   "metadata": {},
   "source": [
    "## Dictionaries\n",
    "- Dictionaries are denoted with curly brackets {}\n",
    "- The keys have to be immutable and unique\n",
    "- The values can be immutable, mutable and duplicates\n",
    "- Each key and value pair is separated by a comma"
   ]
  },
  {
   "cell_type": "code",
   "execution_count": 3,
   "metadata": {},
   "outputs": [
    {
     "name": "stdout",
     "output_type": "stream",
     "text": [
      "{'key1': 1, 'key2': '2', 'key3': [3, 3, 3], 'key4': (4, 4, 4), 'key': 5}\n",
      "1\n"
     ]
    }
   ],
   "source": [
    "dic = {\"key1\": 1, \"key2\": \"2\", \"key3\": [3,3,3], \"key4\": (4,4,4), ('key'): 5}\n",
    "print(dic)\n",
    "print(dic[\"key1\"])"
   ]
  },
  {
   "cell_type": "code",
   "execution_count": 4,
   "metadata": {},
   "outputs": [
    {
     "data": {
      "text/plain": [
       "dict_keys(['key1', 'key2', 'key3', 'key4', 'key'])"
      ]
     },
     "execution_count": 4,
     "metadata": {},
     "output_type": "execute_result"
    }
   ],
   "source": [
    "dic.keys()"
   ]
  },
  {
   "cell_type": "code",
   "execution_count": 5,
   "metadata": {},
   "outputs": [
    {
     "data": {
      "text/plain": [
       "dict_values([1, '2', [3, 3, 3], (4, 4, 4), 5])"
      ]
     },
     "execution_count": 5,
     "metadata": {},
     "output_type": "execute_result"
    }
   ],
   "source": [
    "dic.values()"
   ]
  },
  {
   "cell_type": "markdown",
   "metadata": {},
   "source": [
    "## Sets\n",
    "- Sets are a type of collection\n",
    "    - This means that like lists and tuples you can input different Python types\n",
    "- Unlike list and tuples they are unorders\n",
    "    - This means sets do not record element position\n",
    "- Sets only have unique elements\n",
    "     - This means there is only one of a particular element in a set"
   ]
  },
  {
   "cell_type": "code",
   "execution_count": 6,
   "metadata": {},
   "outputs": [
    {
     "name": "stdout",
     "output_type": "stream",
     "text": [
      "{'rock', 'hard rock', 'R&B', 'soul', 'pop', 'disco'}\n"
     ]
    }
   ],
   "source": [
    "# Sets: a Creating Set\n",
    "Set1 = {\"pop\", \"rock\", \"soul\", \"hard rock\", \"rock\", \"R&B\", \"rock\", \"disco\"}\n",
    "print(Set1)"
   ]
  },
  {
   "cell_type": "code",
   "execution_count": 7,
   "metadata": {},
   "outputs": [
    {
     "name": "stdout",
     "output_type": "stream",
     "text": [
      "{'Michael Jackson', 'Thriller', 1982}\n"
     ]
    }
   ],
   "source": [
    "album_list = [\"Michael Jackson\", \"Thriller\", \"Thriller\", 1982]\n",
    "album_set = set(album_list)\n",
    "print(album_set)"
   ]
  },
  {
   "cell_type": "code",
   "execution_count": 8,
   "metadata": {},
   "outputs": [
    {
     "name": "stdout",
     "output_type": "stream",
     "text": [
      "{'NSYNC', 'Thriller', 'AC/DC', 'Back in Black'}\n"
     ]
    }
   ],
   "source": [
    "# Set Operations\n",
    "A = {\"Thriller\", \"Back in Black\", \"AC/DC\"}\n",
    "A.add(\"NSYNC\")\n",
    "print(A)"
   ]
  },
  {
   "cell_type": "code",
   "execution_count": 9,
   "metadata": {},
   "outputs": [
    {
     "name": "stdout",
     "output_type": "stream",
     "text": [
      "{'NSYNC', 'Thriller', 'AC/DC', 'Back in Black'}\n"
     ]
    }
   ],
   "source": [
    "print(A)"
   ]
  },
  {
   "cell_type": "code",
   "execution_count": 10,
   "metadata": {},
   "outputs": [
    {
     "name": "stdout",
     "output_type": "stream",
     "text": [
      "{'Thriller', 'AC/DC', 'Back in Black'}\n"
     ]
    }
   ],
   "source": [
    "A.remove(\"NSYNC\")\n",
    "print(A)"
   ]
  },
  {
   "cell_type": "code",
   "execution_count": 11,
   "metadata": {},
   "outputs": [
    {
     "name": "stdout",
     "output_type": "stream",
     "text": [
      "{'Black in Black', 'AC/DC'}\n"
     ]
    }
   ],
   "source": [
    "# Sets : Mathematical set operations\n",
    "album_set_1 = {\"AC/DC\", \"Black in Black\", \"Thriller\"}\n",
    "album_set_2 = {\"AC/DC\", \"Black in Black\", \"The Dark Side of the Moon\"}\n",
    "album_set_3 = album_set_1 & album_set_2\n",
    "print(album_set_3)"
   ]
  },
  {
   "cell_type": "code",
   "execution_count": 14,
   "metadata": {},
   "outputs": [
    {
     "name": "stdout",
     "output_type": "stream",
     "text": [
      "{'Thriller', 'Black in Black', 'AC/DC'}\n",
      "{'The Dark Side of the Moon', 'Black in Black', 'AC/DC'}\n",
      "{'Black in Black', 'AC/DC'}\n",
      "{'The Dark Side of the Moon', 'Thriller', 'AC/DC', 'Black in Black'}\n"
     ]
    }
   ],
   "source": [
    "album_set_4 = album_set_1.union(album_set_2)\n",
    "print(album_set_1)\n",
    "print(album_set_2)\n",
    "print(album_set_3)\n",
    "print(album_set_4)"
   ]
  },
  {
   "cell_type": "code",
   "execution_count": 15,
   "metadata": {},
   "outputs": [
    {
     "name": "stdout",
     "output_type": "stream",
     "text": [
      "True\n"
     ]
    }
   ],
   "source": [
    "album_set_5 = album_set_3.issubset(album_set_1)\n",
    "print(album_set_5)"
   ]
  },
  {
   "cell_type": "code",
   "execution_count": null,
   "metadata": {
    "collapsed": true
   },
   "outputs": [],
   "source": []
  }
 ],
 "metadata": {
  "kernelspec": {
   "display_name": "Python 3",
   "language": "python",
   "name": "python3"
  },
  "language_info": {
   "codemirror_mode": {
    "name": "ipython",
    "version": 3
   },
   "file_extension": ".py",
   "mimetype": "text/x-python",
   "name": "python",
   "nbconvert_exporter": "python",
   "pygments_lexer": "ipython3",
   "version": "3.6.1"
  }
 },
 "nbformat": 4,
 "nbformat_minor": 2
}
