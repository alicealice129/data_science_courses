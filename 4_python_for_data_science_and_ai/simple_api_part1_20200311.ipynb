{
 "cells": [
  {
   "cell_type": "markdown",
   "metadata": {},
   "source": [
    "## Outline\n",
    "- What is an API\n",
    "- API Libraries\n",
    "- REST API\n",
    "    - Request and Reponse"
   ]
  },
  {
   "cell_type": "code",
   "execution_count": 2,
   "metadata": {},
   "outputs": [
    {
     "data": {
      "text/html": [
       "<div>\n",
       "<style>\n",
       "    .dataframe thead tr:only-child th {\n",
       "        text-align: right;\n",
       "    }\n",
       "\n",
       "    .dataframe thead th {\n",
       "        text-align: left;\n",
       "    }\n",
       "\n",
       "    .dataframe tbody tr th {\n",
       "        vertical-align: top;\n",
       "    }\n",
       "</style>\n",
       "<table border=\"1\" class=\"dataframe\">\n",
       "  <thead>\n",
       "    <tr style=\"text-align: right;\">\n",
       "      <th></th>\n",
       "      <th>a</th>\n",
       "      <th>b</th>\n",
       "    </tr>\n",
       "  </thead>\n",
       "  <tbody>\n",
       "    <tr>\n",
       "      <th>0</th>\n",
       "      <td>11</td>\n",
       "      <td>12</td>\n",
       "    </tr>\n",
       "    <tr>\n",
       "      <th>1</th>\n",
       "      <td>21</td>\n",
       "      <td>22</td>\n",
       "    </tr>\n",
       "    <tr>\n",
       "      <th>2</th>\n",
       "      <td>31</td>\n",
       "      <td>32</td>\n",
       "    </tr>\n",
       "  </tbody>\n",
       "</table>\n",
       "</div>"
      ],
      "text/plain": [
       "    a   b\n",
       "0  11  12\n",
       "1  21  22\n",
       "2  31  32"
      ]
     },
     "execution_count": 2,
     "metadata": {},
     "output_type": "execute_result"
    }
   ],
   "source": [
    "# What is an API\n",
    "import pandas as pd\n",
    "dict_ = {'a': [11, 21, 31], 'b': [12, 22, 32]}\n",
    "df = pd.DataFrame(dict_)\n",
    "df.head()"
   ]
  },
  {
   "cell_type": "code",
   "execution_count": 3,
   "metadata": {},
   "outputs": [
    {
     "data": {
      "text/html": [
       "<div>\n",
       "<style>\n",
       "    .dataframe thead tr:only-child th {\n",
       "        text-align: right;\n",
       "    }\n",
       "\n",
       "    .dataframe thead th {\n",
       "        text-align: left;\n",
       "    }\n",
       "\n",
       "    .dataframe tbody tr th {\n",
       "        vertical-align: top;\n",
       "    }\n",
       "</style>\n",
       "<table border=\"1\" class=\"dataframe\">\n",
       "  <thead>\n",
       "    <tr style=\"text-align: right;\">\n",
       "      <th></th>\n",
       "      <th>a</th>\n",
       "      <th>b</th>\n",
       "    </tr>\n",
       "  </thead>\n",
       "  <tbody>\n",
       "    <tr>\n",
       "      <th>0</th>\n",
       "      <td>11</td>\n",
       "      <td>12</td>\n",
       "    </tr>\n",
       "    <tr>\n",
       "      <th>1</th>\n",
       "      <td>21</td>\n",
       "      <td>22</td>\n",
       "    </tr>\n",
       "    <tr>\n",
       "      <th>2</th>\n",
       "      <td>31</td>\n",
       "      <td>32</td>\n",
       "    </tr>\n",
       "  </tbody>\n",
       "</table>\n",
       "</div>"
      ],
      "text/plain": [
       "    a   b\n",
       "0  11  12\n",
       "1  21  22\n",
       "2  31  32"
      ]
     },
     "execution_count": 3,
     "metadata": {},
     "output_type": "execute_result"
    }
   ],
   "source": [
    "df"
   ]
  },
  {
   "cell_type": "code",
   "execution_count": 4,
   "metadata": {},
   "outputs": [
    {
     "data": {
      "text/plain": [
       "a    21.0\n",
       "b    22.0\n",
       "dtype: float64"
      ]
     },
     "execution_count": 4,
     "metadata": {},
     "output_type": "execute_result"
    }
   ],
   "source": [
    "df.mean()"
   ]
  },
  {
   "cell_type": "markdown",
   "metadata": {},
   "source": [
    "## REST APIs\n",
    "### REpresentational State Transfer APIs\n",
    "\n",
    "- REST APIs are used to interact with web services, \n",
    "    - i.e., Applications that you call through the internet\n",
    "- They have a set of Rules regarding:\n",
    "    1. Communication\n",
    "    2. Input or Request\n",
    "    3. Output or Reponse"
   ]
  },
  {
   "cell_type": "code",
   "execution_count": 5,
   "metadata": {},
   "outputs": [
    {
     "name": "stdout",
     "output_type": "stream",
     "text": [
      "Collecting nba_api\n",
      "\u001b[?25l  Downloading https://files.pythonhosted.org/packages/fd/94/ee060255b91d945297ebc2fe9a8672aee07ce83b553eef1c5ac5b974995a/nba_api-1.1.8-py3-none-any.whl (217kB)\n",
      "\u001b[K     |████████████████████████████████| 225kB 436kB/s eta 0:00:01\n",
      "\u001b[?25hRequirement already satisfied: requests in /Users/hiromibks/anaconda/lib/python3.6/site-packages (from nba_api) (2.14.2)\n",
      "Installing collected packages: nba-api\n",
      "Successfully installed nba-api-1.1.8\n",
      "\u001b[33mWARNING: You are using pip version 19.3.1; however, version 20.0.2 is available.\n",
      "You should consider upgrading via the 'pip install --upgrade pip' command.\u001b[0m\n"
     ]
    },
    {
     "data": {
      "text/plain": [
       "[{'abbreviation': 'ATL',\n",
       "  'city': 'Atlanta',\n",
       "  'full_name': 'Atlanta Hawks',\n",
       "  'id': 1610612737,\n",
       "  'nickname': 'Hawks',\n",
       "  'state': 'Atlanta',\n",
       "  'year_founded': 1949},\n",
       " {'abbreviation': 'BOS',\n",
       "  'city': 'Boston',\n",
       "  'full_name': 'Boston Celtics',\n",
       "  'id': 1610612738,\n",
       "  'nickname': 'Celtics',\n",
       "  'state': 'Massachusetts',\n",
       "  'year_founded': 1946},\n",
       " {'abbreviation': 'CLE',\n",
       "  'city': 'Cleveland',\n",
       "  'full_name': 'Cleveland Cavaliers',\n",
       "  'id': 1610612739,\n",
       "  'nickname': 'Cavaliers',\n",
       "  'state': 'Ohio',\n",
       "  'year_founded': 1970},\n",
       " {'abbreviation': 'NOP',\n",
       "  'city': 'New Orleans',\n",
       "  'full_name': 'New Orleans Pelicans',\n",
       "  'id': 1610612740,\n",
       "  'nickname': 'Pelicans',\n",
       "  'state': 'Louisiana',\n",
       "  'year_founded': 2002},\n",
       " {'abbreviation': 'CHI',\n",
       "  'city': 'Chicago',\n",
       "  'full_name': 'Chicago Bulls',\n",
       "  'id': 1610612741,\n",
       "  'nickname': 'Bulls',\n",
       "  'state': 'Illinois',\n",
       "  'year_founded': 1966}]"
      ]
     },
     "execution_count": 5,
     "metadata": {},
     "output_type": "execute_result"
    }
   ],
   "source": [
    "!pip install nba_api\n",
    "from nba_api.stats.static import teams\n",
    "nba_teams = teams.get_teams()\n",
    "nba_teams[:5]"
   ]
  },
  {
   "cell_type": "code",
   "execution_count": 7,
   "metadata": {},
   "outputs": [
    {
     "data": {
      "text/html": [
       "<div>\n",
       "<style>\n",
       "    .dataframe thead tr:only-child th {\n",
       "        text-align: right;\n",
       "    }\n",
       "\n",
       "    .dataframe thead th {\n",
       "        text-align: left;\n",
       "    }\n",
       "\n",
       "    .dataframe tbody tr th {\n",
       "        vertical-align: top;\n",
       "    }\n",
       "</style>\n",
       "<table border=\"1\" class=\"dataframe\">\n",
       "  <thead>\n",
       "    <tr style=\"text-align: right;\">\n",
       "      <th></th>\n",
       "      <th>abbreviation</th>\n",
       "      <th>city</th>\n",
       "      <th>full_name</th>\n",
       "      <th>id</th>\n",
       "      <th>nickname</th>\n",
       "      <th>state</th>\n",
       "      <th>year_founded</th>\n",
       "    </tr>\n",
       "  </thead>\n",
       "  <tbody>\n",
       "    <tr>\n",
       "      <th>0</th>\n",
       "      <td>ATL</td>\n",
       "      <td>Atlanta</td>\n",
       "      <td>Atlanta Hawks</td>\n",
       "      <td>1610612737</td>\n",
       "      <td>Hawks</td>\n",
       "      <td>Atlanta</td>\n",
       "      <td>1949</td>\n",
       "    </tr>\n",
       "  </tbody>\n",
       "</table>\n",
       "</div>"
      ],
      "text/plain": [
       "  abbreviation     city      full_name          id nickname    state  \\\n",
       "0          ATL  Atlanta  Atlanta Hawks  1610612737    Hawks  Atlanta   \n",
       "\n",
       "   year_founded  \n",
       "0          1949  "
      ]
     },
     "execution_count": 7,
     "metadata": {},
     "output_type": "execute_result"
    }
   ],
   "source": [
    "def one_dict(list_dict):\n",
    "    keys = list_dict[0].keys()\n",
    "    out_dict = {key: [] for key in keys}\n",
    "    for dict_ in list_dict:\n",
    "        for key, value in dict_.items():\n",
    "            out_dict[key].append(value)\n",
    "        return out_dict\n",
    "    \n",
    "dict_nba_team = one_dict(nba_teams)\n",
    "df_teams = pd.DataFrame(dict_nba_team)\n",
    "df_teams.head()"
   ]
  },
  {
   "cell_type": "code",
   "execution_count": 8,
   "metadata": {},
   "outputs": [
    {
     "data": {
      "text/html": [
       "<div>\n",
       "<style>\n",
       "    .dataframe thead tr:only-child th {\n",
       "        text-align: right;\n",
       "    }\n",
       "\n",
       "    .dataframe thead th {\n",
       "        text-align: left;\n",
       "    }\n",
       "\n",
       "    .dataframe tbody tr th {\n",
       "        vertical-align: top;\n",
       "    }\n",
       "</style>\n",
       "<table border=\"1\" class=\"dataframe\">\n",
       "  <thead>\n",
       "    <tr style=\"text-align: right;\">\n",
       "      <th></th>\n",
       "      <th>abbreviation</th>\n",
       "      <th>city</th>\n",
       "      <th>full_name</th>\n",
       "      <th>id</th>\n",
       "      <th>nickname</th>\n",
       "      <th>state</th>\n",
       "      <th>year_founded</th>\n",
       "    </tr>\n",
       "  </thead>\n",
       "  <tbody>\n",
       "    <tr>\n",
       "      <th>0</th>\n",
       "      <td>ATL</td>\n",
       "      <td>Atlanta</td>\n",
       "      <td>Atlanta Hawks</td>\n",
       "      <td>1610612737</td>\n",
       "      <td>Hawks</td>\n",
       "      <td>Atlanta</td>\n",
       "      <td>1949</td>\n",
       "    </tr>\n",
       "  </tbody>\n",
       "</table>\n",
       "</div>"
      ],
      "text/plain": [
       "  abbreviation     city      full_name          id nickname    state  \\\n",
       "0          ATL  Atlanta  Atlanta Hawks  1610612737    Hawks  Atlanta   \n",
       "\n",
       "   year_founded  \n",
       "0          1949  "
      ]
     },
     "execution_count": 8,
     "metadata": {},
     "output_type": "execute_result"
    }
   ],
   "source": [
    "df_teams"
   ]
  },
  {
   "cell_type": "code",
   "execution_count": 11,
   "metadata": {},
   "outputs": [
    {
     "data": {
      "text/html": [
       "<div>\n",
       "<style>\n",
       "    .dataframe thead tr:only-child th {\n",
       "        text-align: right;\n",
       "    }\n",
       "\n",
       "    .dataframe thead th {\n",
       "        text-align: left;\n",
       "    }\n",
       "\n",
       "    .dataframe tbody tr th {\n",
       "        vertical-align: top;\n",
       "    }\n",
       "</style>\n",
       "<table border=\"1\" class=\"dataframe\">\n",
       "  <thead>\n",
       "    <tr style=\"text-align: right;\">\n",
       "      <th></th>\n",
       "      <th>abbreviation</th>\n",
       "      <th>city</th>\n",
       "      <th>full_name</th>\n",
       "      <th>id</th>\n",
       "      <th>nickname</th>\n",
       "      <th>state</th>\n",
       "      <th>year_founded</th>\n",
       "    </tr>\n",
       "  </thead>\n",
       "  <tbody>\n",
       "    <tr>\n",
       "      <th>0</th>\n",
       "      <td>ATL</td>\n",
       "      <td>Atlanta</td>\n",
       "      <td>Atlanta Hawks</td>\n",
       "      <td>1610612737</td>\n",
       "      <td>Hawks</td>\n",
       "      <td>Atlanta</td>\n",
       "      <td>1949</td>\n",
       "    </tr>\n",
       "  </tbody>\n",
       "</table>\n",
       "</div>"
      ],
      "text/plain": [
       "  abbreviation     city      full_name          id nickname    state  \\\n",
       "0          ATL  Atlanta  Atlanta Hawks  1610612737    Hawks  Atlanta   \n",
       "\n",
       "   year_founded  \n",
       "0          1949  "
      ]
     },
     "execution_count": 11,
     "metadata": {},
     "output_type": "execute_result"
    }
   ],
   "source": [
    "#df_warriors = df_teams[df_teams['nickname'] == 'Warriors']\n",
    "#df_warriors\n",
    "df_hawks = df_teams[df_teams['nickname'] == 'Hawks']\n",
    "df_hawks"
   ]
  },
  {
   "cell_type": "code",
   "execution_count": 13,
   "metadata": {},
   "outputs": [
    {
     "data": {
      "text/plain": [
       "1610612737"
      ]
     },
     "execution_count": 13,
     "metadata": {},
     "output_type": "execute_result"
    }
   ],
   "source": [
    "id_hawks = df_hawks[['id']].values[0][0]\n",
    "id_hawks"
   ]
  },
  {
   "cell_type": "code",
   "execution_count": 15,
   "metadata": {},
   "outputs": [
    {
     "data": {
      "text/plain": [
       "<nba_api.stats.endpoints.leaguegamefinder.LeagueGameFinder at 0x114f94160>"
      ]
     },
     "execution_count": 15,
     "metadata": {},
     "output_type": "execute_result"
    }
   ],
   "source": [
    "from nba_api.stats.endpoints import leaguegamefinder\n",
    "#gamefinder = leaguegamefinder.LeagueGameFinder(team_id_nullable = id_warriors)\n",
    "gamefinder = leaguegamefinder.LeagueGameFinder(team_id_nullable = id_hawks)\n",
    "gamefinder"
   ]
  },
  {
   "cell_type": "code",
   "execution_count": 17,
   "metadata": {},
   "outputs": [
    {
     "data": {
      "text/html": [
       "<div>\n",
       "<style>\n",
       "    .dataframe thead tr:only-child th {\n",
       "        text-align: right;\n",
       "    }\n",
       "\n",
       "    .dataframe thead th {\n",
       "        text-align: left;\n",
       "    }\n",
       "\n",
       "    .dataframe tbody tr th {\n",
       "        vertical-align: top;\n",
       "    }\n",
       "</style>\n",
       "<table border=\"1\" class=\"dataframe\">\n",
       "  <thead>\n",
       "    <tr style=\"text-align: right;\">\n",
       "      <th></th>\n",
       "      <th>SEASON_ID</th>\n",
       "      <th>TEAM_ID</th>\n",
       "      <th>TEAM_ABBREVIATION</th>\n",
       "      <th>TEAM_NAME</th>\n",
       "      <th>GAME_ID</th>\n",
       "      <th>GAME_DATE</th>\n",
       "      <th>MATCHUP</th>\n",
       "      <th>WL</th>\n",
       "      <th>MIN</th>\n",
       "      <th>PTS</th>\n",
       "      <th>...</th>\n",
       "      <th>FT_PCT</th>\n",
       "      <th>OREB</th>\n",
       "      <th>DREB</th>\n",
       "      <th>REB</th>\n",
       "      <th>AST</th>\n",
       "      <th>STL</th>\n",
       "      <th>BLK</th>\n",
       "      <th>TOV</th>\n",
       "      <th>PF</th>\n",
       "      <th>PLUS_MINUS</th>\n",
       "    </tr>\n",
       "  </thead>\n",
       "  <tbody>\n",
       "    <tr>\n",
       "      <th>0</th>\n",
       "      <td>22019</td>\n",
       "      <td>1610612737</td>\n",
       "      <td>ATL</td>\n",
       "      <td>Atlanta Hawks</td>\n",
       "      <td>0021900957</td>\n",
       "      <td>2020-03-09</td>\n",
       "      <td>ATL vs. CHA</td>\n",
       "      <td>W</td>\n",
       "      <td>290</td>\n",
       "      <td>143</td>\n",
       "      <td>...</td>\n",
       "      <td>0.593</td>\n",
       "      <td>12</td>\n",
       "      <td>41</td>\n",
       "      <td>53</td>\n",
       "      <td>33</td>\n",
       "      <td>1.0</td>\n",
       "      <td>5</td>\n",
       "      <td>15</td>\n",
       "      <td>26</td>\n",
       "      <td>5.0</td>\n",
       "    </tr>\n",
       "    <tr>\n",
       "      <th>1</th>\n",
       "      <td>22019</td>\n",
       "      <td>1610612737</td>\n",
       "      <td>ATL</td>\n",
       "      <td>Atlanta Hawks</td>\n",
       "      <td>0021900943</td>\n",
       "      <td>2020-03-07</td>\n",
       "      <td>ATL @ MEM</td>\n",
       "      <td>L</td>\n",
       "      <td>240</td>\n",
       "      <td>101</td>\n",
       "      <td>...</td>\n",
       "      <td>0.857</td>\n",
       "      <td>14</td>\n",
       "      <td>32</td>\n",
       "      <td>46</td>\n",
       "      <td>23</td>\n",
       "      <td>9.0</td>\n",
       "      <td>2</td>\n",
       "      <td>14</td>\n",
       "      <td>24</td>\n",
       "      <td>-17.0</td>\n",
       "    </tr>\n",
       "    <tr>\n",
       "      <th>2</th>\n",
       "      <td>22019</td>\n",
       "      <td>1610612737</td>\n",
       "      <td>ATL</td>\n",
       "      <td>Atlanta Hawks</td>\n",
       "      <td>0021900930</td>\n",
       "      <td>2020-03-06</td>\n",
       "      <td>ATL @ WAS</td>\n",
       "      <td>L</td>\n",
       "      <td>239</td>\n",
       "      <td>112</td>\n",
       "      <td>...</td>\n",
       "      <td>0.667</td>\n",
       "      <td>6</td>\n",
       "      <td>30</td>\n",
       "      <td>36</td>\n",
       "      <td>25</td>\n",
       "      <td>9.0</td>\n",
       "      <td>4</td>\n",
       "      <td>17</td>\n",
       "      <td>25</td>\n",
       "      <td>-6.0</td>\n",
       "    </tr>\n",
       "    <tr>\n",
       "      <th>3</th>\n",
       "      <td>22019</td>\n",
       "      <td>1610612737</td>\n",
       "      <td>ATL</td>\n",
       "      <td>Atlanta Hawks</td>\n",
       "      <td>0021900905</td>\n",
       "      <td>2020-03-02</td>\n",
       "      <td>ATL vs. MEM</td>\n",
       "      <td>L</td>\n",
       "      <td>239</td>\n",
       "      <td>88</td>\n",
       "      <td>...</td>\n",
       "      <td>0.938</td>\n",
       "      <td>16</td>\n",
       "      <td>27</td>\n",
       "      <td>43</td>\n",
       "      <td>20</td>\n",
       "      <td>6.0</td>\n",
       "      <td>8</td>\n",
       "      <td>17</td>\n",
       "      <td>21</td>\n",
       "      <td>-39.0</td>\n",
       "    </tr>\n",
       "    <tr>\n",
       "      <th>4</th>\n",
       "      <td>22019</td>\n",
       "      <td>1610612737</td>\n",
       "      <td>ATL</td>\n",
       "      <td>Atlanta Hawks</td>\n",
       "      <td>0021900888</td>\n",
       "      <td>2020-02-29</td>\n",
       "      <td>ATL vs. POR</td>\n",
       "      <td>W</td>\n",
       "      <td>239</td>\n",
       "      <td>129</td>\n",
       "      <td>...</td>\n",
       "      <td>0.864</td>\n",
       "      <td>5</td>\n",
       "      <td>31</td>\n",
       "      <td>36</td>\n",
       "      <td>34</td>\n",
       "      <td>7.0</td>\n",
       "      <td>5</td>\n",
       "      <td>18</td>\n",
       "      <td>18</td>\n",
       "      <td>12.0</td>\n",
       "    </tr>\n",
       "  </tbody>\n",
       "</table>\n",
       "<p>5 rows × 28 columns</p>\n",
       "</div>"
      ],
      "text/plain": [
       "  SEASON_ID     TEAM_ID TEAM_ABBREVIATION      TEAM_NAME     GAME_ID  \\\n",
       "0     22019  1610612737               ATL  Atlanta Hawks  0021900957   \n",
       "1     22019  1610612737               ATL  Atlanta Hawks  0021900943   \n",
       "2     22019  1610612737               ATL  Atlanta Hawks  0021900930   \n",
       "3     22019  1610612737               ATL  Atlanta Hawks  0021900905   \n",
       "4     22019  1610612737               ATL  Atlanta Hawks  0021900888   \n",
       "\n",
       "    GAME_DATE      MATCHUP WL  MIN  PTS     ...      FT_PCT  OREB  DREB  REB  \\\n",
       "0  2020-03-09  ATL vs. CHA  W  290  143     ...       0.593    12    41   53   \n",
       "1  2020-03-07    ATL @ MEM  L  240  101     ...       0.857    14    32   46   \n",
       "2  2020-03-06    ATL @ WAS  L  239  112     ...       0.667     6    30   36   \n",
       "3  2020-03-02  ATL vs. MEM  L  239   88     ...       0.938    16    27   43   \n",
       "4  2020-02-29  ATL vs. POR  W  239  129     ...       0.864     5    31   36   \n",
       "\n",
       "   AST  STL  BLK  TOV  PF  PLUS_MINUS  \n",
       "0   33  1.0    5   15  26         5.0  \n",
       "1   23  9.0    2   14  24       -17.0  \n",
       "2   25  9.0    4   17  25        -6.0  \n",
       "3   20  6.0    8   17  21       -39.0  \n",
       "4   34  7.0    5   18  18        12.0  \n",
       "\n",
       "[5 rows x 28 columns]"
      ]
     },
     "execution_count": 17,
     "metadata": {},
     "output_type": "execute_result"
    }
   ],
   "source": [
    "games = gamefinder.get_data_frames()[0]\n",
    "games.head()"
   ]
  },
  {
   "cell_type": "code",
   "execution_count": 19,
   "metadata": {
    "collapsed": true
   },
   "outputs": [],
   "source": [
    "#games_home = games[games['MATCHUP'] == 'GSW vs. TOR']\n",
    "games_home = games[games['MATCHUP'] == 'ATL vs. MEM']"
   ]
  },
  {
   "cell_type": "code",
   "execution_count": 20,
   "metadata": {
    "collapsed": true
   },
   "outputs": [],
   "source": [
    "#games_away = games[games['MATCHUP'] == 'GSW @ TOR']\n",
    "games_away = games[games['MATCHUP'] == 'ATL @ MEM']"
   ]
  },
  {
   "cell_type": "code",
   "execution_count": 22,
   "metadata": {},
   "outputs": [
    {
     "data": {
      "image/png": "[encoded data removed]",
      "text/plain": [
       "<matplotlib.figure.Figure at 0x115bdf748>"
      ]
     },
     "metadata": {},
     "output_type": "display_data"
    }
   ],
   "source": [
    "import matplotlib.pyplot as plt\n",
    "fig, ax = plt.subplots()\n",
    "games_away.plot(x = 'GAME_DATE', y = 'PLUS_MINUS', ax = ax)\n",
    "games_home.plot(x = 'GAME_DATE', y = 'PLUS_MINUS', ax = ax)\n",
    "ax.legend([\"away\", \"home\"])\n",
    "plt.show()"
   ]
  },
  {
   "cell_type": "code",
   "execution_count": null,
   "metadata": {
    "collapsed": true
   },
   "outputs": [],
   "source": []
  }
 ],
 "metadata": {
  "kernelspec": {
   "display_name": "Python 3",
   "language": "python",
   "name": "python3"
  },
  "language_info": {
   "codemirror_mode": {
    "name": "ipython",
    "version": 3
   },
   "file_extension": ".py",
   "mimetype": "text/x-python",
   "name": "python",
   "nbconvert_exporter": "python",
   "pygments_lexer": "ipython3",
   "version": "3.6.1"
  }
 },
 "nbformat": 4,
 "nbformat_minor": 2
}
